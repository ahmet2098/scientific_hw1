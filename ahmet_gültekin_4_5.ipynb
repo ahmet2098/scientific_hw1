{
 "cells": [
  {
   "cell_type": "markdown",
   "id": "4cc07882",
   "metadata": {},
   "source": [
    "# 4 Lists"
   ]
  },
  {
   "cell_type": "markdown",
   "id": "8d07ade6",
   "metadata": {},
   "source": [
    "### Exercise 4.1: Short questions"
   ]
  },
  {
   "cell_type": "code",
   "execution_count": 1,
   "id": "0fe3c568",
   "metadata": {},
   "outputs": [],
   "source": [
    "# Prints the elements of a list\n",
    "def print_list(list):\n",
    "    for element in list:\n",
    "        print(element)"
   ]
  },
  {
   "cell_type": "code",
   "execution_count": 82,
   "id": "b414c306",
   "metadata": {},
   "outputs": [
    {
     "name": "stdout",
     "output_type": "stream",
     "text": [
      "6\n",
      "5\n",
      "4\n",
      "3\n",
      "2\n",
      "1\n"
     ]
    }
   ],
   "source": [
    "# Prints the elements of a list in reverse.Loop starts from last index of the list to down 0\n",
    "def reverse_list(inputList):\n",
    "    for index in range(len(inputList)-1,-1,-1):\n",
    "        print(inputList[index])\n",
    "     \n",
    "list = [1, 2, 3, 4, 5, 6]\n",
    "reverse_list(list)"
   ]
  },
  {
   "cell_type": "code",
   "execution_count": 15,
   "id": "0ba556ba",
   "metadata": {},
   "outputs": [
    {
     "data": {
      "text/plain": [
       "5"
      ]
     },
     "execution_count": 15,
     "metadata": {},
     "output_type": "execute_result"
    }
   ],
   "source": [
    "# Everytime foor loop is executed, we add 1 to the size and return this size at the end.\n",
    "def length_list(list):\n",
    "    # Initialize count to zero \n",
    "    size = 0\n",
    "    for i in list:\n",
    "        size += 1\n",
    "    return size\n",
    "\n",
    "list = [1,2,3,4,5]\n",
    "length_list(list)"
   ]
  },
  {
   "cell_type": "markdown",
   "id": "126cdf6d",
   "metadata": {},
   "source": [
    "### Exercise 4.2: Copying lists"
   ]
  },
  {
   "cell_type": "code",
   "execution_count": 16,
   "id": "1eff034d",
   "metadata": {},
   "outputs": [],
   "source": [
    "# Create a list a with some entries.\n",
    "a = [1,2,3,4,5,6]"
   ]
  },
  {
   "cell_type": "code",
   "execution_count": 17,
   "id": "35fe3614",
   "metadata": {},
   "outputs": [],
   "source": [
    "# Set b = a\n",
    "b = a"
   ]
  },
  {
   "cell_type": "code",
   "execution_count": 18,
   "id": "861677db",
   "metadata": {},
   "outputs": [],
   "source": [
    "# Change b[1]\n",
    "b[1] = 34765"
   ]
  },
  {
   "cell_type": "code",
   "execution_count": 19,
   "id": "87dfe563",
   "metadata": {},
   "outputs": [
    {
     "data": {
      "text/plain": [
       "[1, 34765, 3, 4, 5, 6]"
      ]
     },
     "execution_count": 19,
     "metadata": {},
     "output_type": "execute_result"
    }
   ],
   "source": [
    "# a[1] is also changed. Because, their reference are the same.\n",
    "a"
   ]
  },
  {
   "cell_type": "code",
   "execution_count": 20,
   "id": "fe7acb2d",
   "metadata": {},
   "outputs": [],
   "source": [
    "# Now set c = a[:]\n",
    "c = a[:]"
   ]
  },
  {
   "cell_type": "code",
   "execution_count": 21,
   "id": "0a1a2dc8",
   "metadata": {},
   "outputs": [],
   "source": [
    "# Change c[2]\n",
    "c[2] = 0"
   ]
  },
  {
   "cell_type": "code",
   "execution_count": 22,
   "id": "7a623306",
   "metadata": {},
   "outputs": [
    {
     "data": {
      "text/plain": [
       "[1, 34765, 3, 4, 5, 6]"
      ]
     },
     "execution_count": 22,
     "metadata": {},
     "output_type": "execute_result"
    }
   ],
   "source": [
    "# a did not get changed because their referece are different\n",
    "a"
   ]
  },
  {
   "cell_type": "code",
   "execution_count": 24,
   "id": "0868d3d0",
   "metadata": {},
   "outputs": [],
   "source": [
    "# Set the first element of the list as 0\n",
    "def set_first_elem_to_zero(list):\n",
    "    list[0] = 0\n",
    "    return list"
   ]
  },
  {
   "cell_type": "code",
   "execution_count": 25,
   "id": "adf4efa2",
   "metadata": {},
   "outputs": [
    {
     "data": {
      "text/plain": [
       "[0, 34765, 3, 4, 5, 6]"
      ]
     },
     "execution_count": 25,
     "metadata": {},
     "output_type": "execute_result"
    }
   ],
   "source": [
    "set_first_elem_to_zero(a)\n",
    "\n",
    "# First element of \"a\" list became 0"
   ]
  },
  {
   "cell_type": "markdown",
   "id": "2ad7860b",
   "metadata": {},
   "source": [
    "### Exercise 4.3: Lists of lists"
   ]
  },
  {
   "cell_type": "code",
   "execution_count": 4,
   "id": "75017c3c",
   "metadata": {},
   "outputs": [
    {
     "name": "stdout",
     "output_type": "stream",
     "text": [
      "[[], [], []]\n",
      "[[], [], []]\n"
     ]
    }
   ],
   "source": [
    "# With Python3, xrange became range. That's why, I have used range \n",
    "a = [[]] * 3\n",
    "b = [[] for _ in range(3)]\n",
    "\n",
    "print(a)\n",
    "print(b)\n",
    "\n",
    "# Output shows that there is no difference"
   ]
  },
  {
   "cell_type": "markdown",
   "id": "2e59a9ec",
   "metadata": {},
   "source": [
    "### Exercise 4.4: Lists and functions"
   ]
  },
  {
   "cell_type": "code",
   "execution_count": 5,
   "id": "c45aa4d1",
   "metadata": {},
   "outputs": [
    {
     "data": {
      "text/plain": [
       "[1, 0, 3]"
      ]
     },
     "execution_count": 5,
     "metadata": {},
     "output_type": "execute_result"
    }
   ],
   "source": [
    "# Takes list and index, and sets that index to 0\n",
    "def setIndexToZero(list, index):\n",
    "    list[index] = 0\n",
    "    return list\n",
    "\n",
    "list = [1, 2, 3]\n",
    "setIndexToZero(list,1)"
   ]
  },
  {
   "cell_type": "markdown",
   "id": "ef93f11e",
   "metadata": {},
   "source": [
    "### Exercise 4.5: Primes"
   ]
  },
  {
   "cell_type": "code",
   "execution_count": 6,
   "id": "ec40af09",
   "metadata": {},
   "outputs": [
    {
     "data": {
      "text/plain": [
       "[2, 3, 5, 7, 11, 13, 17, 19]"
      ]
     },
     "execution_count": 6,
     "metadata": {},
     "output_type": "execute_result"
    }
   ],
   "source": [
    "# Functions that I have used in the previous homework\n",
    "def is_prime(n):\n",
    "    # Prime numbers start from 2. So do this check\n",
    "    if (n <= 1):\n",
    "        return False\n",
    "    for i in range(2, n):\n",
    "        if (n % i == 0):\n",
    "            return False\n",
    "    return True\n",
    "    \n",
    "def all_primes(n):\n",
    "    list = []\n",
    "    for i in range (2, n):\n",
    "        if (is_prime(i)):\n",
    "            list.append(i)\n",
    "    return list\n",
    "            \n",
    "all_primes(20)"
   ]
  },
  {
   "cell_type": "markdown",
   "id": "7c60b597",
   "metadata": {},
   "source": [
    "### Exercise 4.6: List comprehensions"
   ]
  },
  {
   "cell_type": "markdown",
   "id": "5a6fa014-eca5-4a74-8af6-5734f3141ee2",
   "metadata": {},
   "source": [
    "a)"
   ]
  },
  {
   "cell_type": "code",
   "execution_count": 33,
   "id": "7e04b5dd",
   "metadata": {},
   "outputs": [
    {
     "name": "stdout",
     "output_type": "stream",
     "text": [
      "[[1, 4], [1, 5], [1, 6], [2, 4], [2, 5], [2, 6], [3, 4], [3, 5], [3, 6]]\n"
     ]
    }
   ],
   "source": [
    "# List with elements [i,j]\n",
    "list1 = [1,2,3]\n",
    "list2 = [10,20,30]\n",
    "\n",
    "combine_lists = [[i, j] for i in list1 for j in list2]\n",
    "print(combine_lists)"
   ]
  },
  {
   "cell_type": "markdown",
   "id": "7cfe536b-e696-4957-9ba8-c2d178d6b766",
   "metadata": {},
   "source": [
    "b)"
   ]
  },
  {
   "cell_type": "code",
   "execution_count": 35,
   "id": "39f60bb9",
   "metadata": {},
   "outputs": [
    {
     "name": "stdout",
     "output_type": "stream",
     "text": [
      "[[1, 10], [1, 20], [1, 30], [2, 10], [2, 20], [2, 30], [3, 10], [3, 20], [3, 30]]\n"
     ]
    }
   ],
   "source": [
    "# List with elements [i,j] with i < j\n",
    "list1 = [1,2,3]\n",
    "list2 = [10,20,30]\n",
    "\n",
    "combine_list = [[i, j] for i in list1 for j in list2 if (i < j)]\n",
    "print(combine_list)"
   ]
  },
  {
   "cell_type": "code",
   "execution_count": 37,
   "id": "6a2a3bdc",
   "metadata": {},
   "outputs": [
    {
     "name": "stdout",
     "output_type": "stream",
     "text": [
      "[5, 7, 8, 9, 10, 13, 14, 18, 15, 16, 20]\n"
     ]
    }
   ],
   "source": [
    "# List with elements i + j with both i and j prime and i > j.\n",
    "# is_prime() in section 4.5 have been used\n",
    "list1 = [1,2,3,5,7,11,13]\n",
    "list2 = [1,2,3,4,7,12]\n",
    "\n",
    "combine_list = [(i + j) for i in list1 for j in list2 if (i > j and is_prime(i) and is_prime(j))]\n",
    "print(combine_list)"
   ]
  },
  {
   "cell_type": "markdown",
   "id": "cf385366",
   "metadata": {},
   "source": [
    "### Exercise 4.7: Filter"
   ]
  },
  {
   "cell_type": "code",
   "execution_count": 7,
   "id": "a713e275",
   "metadata": {},
   "outputs": [
    {
     "name": "stdout",
     "output_type": "stream",
     "text": [
      "[4, 5, 6, 7]\n"
     ]
    }
   ],
   "source": [
    "# Filter the list which is greater than 3 \n",
    "def my_filter(value):\n",
    "    if(value > 3):\n",
    "        return value\n",
    "\n",
    "list = [1, 2, 3, 4, 5, 6, 7]\n",
    "newList = [i for i in list if my_filter(i)]\n",
    "print(newList)"
   ]
  },
  {
   "cell_type": "markdown",
   "id": "023ea510",
   "metadata": {},
   "source": [
    "### Exercise 4.8: Flatten a list of lists"
   ]
  },
  {
   "cell_type": "code",
   "execution_count": 9,
   "id": "ea4560e6",
   "metadata": {},
   "outputs": [
    {
     "name": "stdout",
     "output_type": "stream",
     "text": [
      "[1, 3, 3, 6]\n"
     ]
    }
   ],
   "source": [
    "# Flattening a list of lists\n",
    "def flatten(listFlatten):\n",
    "    return [item for sublist in listFlatten for item in sublist]\n",
    "\n",
    "list = [[1, 3], [3, 6]]\n",
    "print(flatten(list))"
   ]
  },
  {
   "cell_type": "markdown",
   "id": "4a425daf",
   "metadata": {},
   "source": [
    "### Exercise 4.9: Finding the longest word"
   ]
  },
  {
   "cell_type": "code",
   "execution_count": 10,
   "id": "85082c7e",
   "metadata": {},
   "outputs": [
    {
     "data": {
      "text/plain": [
       "'football'"
      ]
     },
     "execution_count": 10,
     "metadata": {},
     "output_type": "execute_result"
    }
   ],
   "source": [
    "import re\n",
    "def longest_word(string):\n",
    "    #removing symbols\n",
    "    modifiedString = re.sub(r'[^\\w]', ' ', string)\n",
    "    stringList = modifiedString.split()\n",
    "    longestWord = \"\"\n",
    "    for word in stringList:\n",
    "        if len(word) > len(longestWord):\n",
    "            longestWord = word\n",
    "    return longestWord\n",
    "\n",
    "sentence = \"Hello, how was the football match earlier today???”\"\n",
    "longest_word(sentence)"
   ]
  },
  {
   "cell_type": "markdown",
   "id": "c055dc63",
   "metadata": {
    "tags": []
   },
   "source": [
    "### Exercise 4.10: Collatz sequence, part 2"
   ]
  },
  {
   "cell_type": "markdown",
   "id": "2e69b636-1aa6-415a-bb8a-4fb034b48dd8",
   "metadata": {},
   "source": [
    "a)"
   ]
  },
  {
   "cell_type": "code",
   "execution_count": 17,
   "id": "c637c215",
   "metadata": {},
   "outputs": [
    {
     "data": {
      "text/plain": [
       "[50.0,\n",
       " 25.0,\n",
       " 76.0,\n",
       " 38.0,\n",
       " 19.0,\n",
       " 58.0,\n",
       " 29.0,\n",
       " 88.0,\n",
       " 44.0,\n",
       " 22.0,\n",
       " 11.0,\n",
       " 34.0,\n",
       " 17.0,\n",
       " 52.0,\n",
       " 26.0,\n",
       " 13.0,\n",
       " 40.0,\n",
       " 20.0,\n",
       " 10.0,\n",
       " 5.0,\n",
       " 16.0,\n",
       " 8.0,\n",
       " 4.0,\n",
       " 2.0,\n",
       " 1.0]"
      ]
     },
     "execution_count": 17,
     "metadata": {},
     "output_type": "execute_result"
    }
   ],
   "source": [
    "#Recall the Collatz sequence problem from Section 1. Our goal is to find the number n < 1, 000, 000 that\n",
    "#leads to the longest Collatz sequence.\n",
    "\n",
    "#a) Write a function that for any n, returns its Collatz sequence as a list\n",
    "def collatz(collatz):\n",
    "    if(collatz > 1000000):\n",
    "        return\n",
    "    collatzList = []\n",
    "    while (collatz != 1):\n",
    "    # Checking if the number is even\n",
    "        if (collatz % 2 == 0): \n",
    "            collatz = collatz / 2\n",
    "            collatzList.append(collatz)\n",
    "        else :\n",
    "            collatz = 3 * collatz + 1\n",
    "            collatzList.append(collatz)\n",
    "    return collatzList\n",
    "\n",
    "collatz(100)"
   ]
  },
  {
   "cell_type": "code",
   "execution_count": null,
   "id": "2d14ba41",
   "metadata": {},
   "outputs": [],
   "source": [
    "#b)Write a function that finds the integer x that leads to the longest Collatz sequence with x < n.\n"
   ]
  },
  {
   "cell_type": "markdown",
   "id": "3b982c53",
   "metadata": {},
   "source": [
    "### Exercise 4.11: Pivots"
   ]
  },
  {
   "cell_type": "code",
   "execution_count": 19,
   "id": "8df49640",
   "metadata": {},
   "outputs": [
    {
     "data": {
      "text/plain": [
       "[2, 3, 4, 5, 9, 11]"
      ]
     },
     "execution_count": 19,
     "metadata": {},
     "output_type": "execute_result"
    }
   ],
   "source": [
    "def pivots(x, ys):\n",
    "    ys.sort()\n",
    "    for item in list:\n",
    "        if (item >= x):\n",
    "            ys.insert(ys.index(item), x)\n",
    "            return ys\n",
    "    return ys\n",
    "\n",
    "list = [4,2,9,11,5]\n",
    "pivots(3,list)"
   ]
  },
  {
   "cell_type": "markdown",
   "id": "6f35a0a2",
   "metadata": {},
   "source": [
    "### Exercise 4.12: Prime challenge"
   ]
  },
  {
   "cell_type": "code",
   "execution_count": 105,
   "id": "c3a1129c",
   "metadata": {},
   "outputs": [
    {
     "name": "stdout",
     "output_type": "stream",
     "text": [
      "[2, 3, 5, 7, 11, 13]\n"
     ]
    }
   ],
   "source": [
    "primes = lambda n: [i for i in range (2, n) if (is_prime(i))]\n",
    "\n",
    "print(primes(14))"
   ]
  },
  {
   "cell_type": "markdown",
   "id": "c4a08961-c2c4-4eb5-9f83-d748d11ceb26",
   "metadata": {},
   "source": [
    "## 5 Tuples"
   ]
  },
  {
   "cell_type": "markdown",
   "id": "c9f5b924-f6e1-4f2e-ad5e-d7d08d62717a",
   "metadata": {},
   "source": [
    "## 5.1)Swapping two values"
   ]
  },
  {
   "cell_type": "code",
   "execution_count": 59,
   "id": "1a6d5cc6-8e03-4abd-bb7c-a14c736719ed",
   "metadata": {},
   "outputs": [
    {
     "name": "stdout",
     "output_type": "stream",
     "text": [
      "Before swapping\n",
      "a = 1\n",
      "b = 2\n",
      "After swapping\n",
      "a = 2\n",
      "b = 1\n"
     ]
    }
   ],
   "source": [
    "a = 1\n",
    "b = 2\n",
    "print(\"Before swapping\")\n",
    "print(\"a =\",a)\n",
    "print(\"b =\",b)\n",
    "# Swapping values here\n",
    "a, b = b, a\n",
    "print(\"After swapping\")\n",
    "print(\"a =\",a)\n",
    "print(\"b =\",b)"
   ]
  },
  {
   "cell_type": "markdown",
   "id": "861a00d5-6082-418f-9bda-54a3f2172cd7",
   "metadata": {},
   "source": [
    "## 5.2)Zip"
   ]
  },
  {
   "cell_type": "code",
   "execution_count": 63,
   "id": "8ae5e2c2-46fa-4c83-99fb-3e516eb5aebe",
   "metadata": {},
   "outputs": [
    {
     "name": "stdout",
     "output_type": "stream",
     "text": [
      "((1, 3), (2, 2), (3, 1))\n"
     ]
    }
   ],
   "source": [
    "x = (1,2,3)\n",
    "y = (3,2,1)\n",
    "\n",
    "afterZip = zip(x,y)\n",
    "print(tuple(afterZip))"
   ]
  },
  {
   "cell_type": "markdown",
   "id": "2d4885d7-cf3c-4ab5-b51c-7a3200472d7f",
   "metadata": {},
   "source": [
    "## 5.3)Distances"
   ]
  },
  {
   "cell_type": "code",
   "execution_count": 24,
   "id": "a6649aac-6c0a-4faa-aa10-1d944dd8d831",
   "metadata": {},
   "outputs": [
    {
     "name": "stdout",
     "output_type": "stream",
     "text": [
      "l1: 18\n",
      "l2: 11.637219122004232\n"
     ]
    }
   ],
   "source": [
    "import math as math\n",
    "# The L1 norm that is calculated as the sum of the absolute values of the vector.\n",
    "# The L2 norm that is calculated as the square root of the sum of the squared vector values.\n",
    "def l1(x,y):\n",
    "    return abs(sum(x)-sum(y))\n",
    "\n",
    "def l2(x,y):\n",
    "    sumX = 0\n",
    "    sumY = 0\n",
    "   \n",
    "    for i in range(len(x)):\n",
    "        sumX = sumX + pow(x[i],2)\n",
    "        sumY = sumY + pow(y[i],2)\n",
    "    return abs(math.sqrt(sumX)- math.sqrt(sumY))\n",
    "\n",
    "x = [5,10,15]\n",
    "y = [3,4,5]\n",
    "print(f\"l1: {l1(x,y)}\")\n",
    "print(f\"l2: {l2(x,y)}\")"
   ]
  },
  {
   "cell_type": "markdown",
   "id": "7b6e4539-038a-43eb-9d9d-c55446496628",
   "metadata": {},
   "source": [
    "## 6 Dictionaries"
   ]
  },
  {
   "cell_type": "markdown",
   "id": "59ef936d-3529-410a-aa91-fdac21451478",
   "metadata": {},
   "source": [
    "## 6.1 Printing a dictionary"
   ]
  },
  {
   "cell_type": "code",
   "execution_count": 68,
   "id": "d96bf1c0-1b98-44d4-a514-adccec1c8860",
   "metadata": {},
   "outputs": [
    {
     "name": "stdout",
     "output_type": "stream",
     "text": [
      "{'name': 'Ahmet', 'surname': 'Gültekin'}\n"
     ]
    }
   ],
   "source": [
    "# Just passing the dictionary to the print function as parameter, prints the dictionary's key and value\n",
    "dictionary = {\n",
    "    \"name\": \"Ahmet\",\n",
    "    \"surname\": \"Gültekin\"\n",
    "}\n",
    "print(dictionary)"
   ]
  },
  {
   "cell_type": "code",
   "execution_count": 70,
   "id": "6b111c71-38d0-4939-b7b2-b2fc00b6e85c",
   "metadata": {},
   "outputs": [
    {
     "data": {
      "text/plain": [
       "{1: 1, 2: 2, 3: 1, 4: 1, 5: 1}"
      ]
     },
     "execution_count": 70,
     "metadata": {},
     "output_type": "execute_result"
    }
   ],
   "source": [
    "def histogram(list):\n",
    "    dict = {}\n",
    "    for item in list:\n",
    "        #Checking if the item is already in the dictionary.If yes, sum up to value by 1\n",
    "        if item in dict:\n",
    "            dict[item] = dict[item] + 1\n",
    "        #If the key is not in the dict,it means it is occuring for the for time.So we set it 1 \n",
    "        else:\n",
    "            dict[item] = 1\n",
    "            \n",
    "    return dict\n",
    "\n",
    "x = (1,2,2,3,4,5)\n",
    "histogram(x)"
   ]
  },
  {
   "cell_type": "markdown",
   "id": "ebc83c35-424f-47bf-b369-0a144c3492a3",
   "metadata": {},
   "source": [
    "## 6.3 Get method"
   ]
  },
  {
   "cell_type": "code",
   "execution_count": 3,
   "id": "757fc24c-7ee9-4632-b19a-7d09c52cc053",
   "metadata": {},
   "outputs": [
    {
     "data": {
      "text/plain": [
       "{1: 1, 2: 2, 3: 1, 4: 1, 5: 1}"
      ]
     },
     "execution_count": 3,
     "metadata": {},
     "output_type": "execute_result"
    }
   ],
   "source": [
    "#If key in dict ,returns the value, If not, returns the default\n",
    "def get(dict,key,default):\n",
    "    if(key in dict):\n",
    "        return dict[key]\n",
    "    else:\n",
    "        return default \n",
    "\n",
    "# default is 0 . Because there is not key in the dict and we just add 1\n",
    "def histogram(list):\n",
    "    dict = {}\n",
    "    for key in list:\n",
    "        dict[key] = get(dict,key,0) + 1\n",
    "        \n",
    "    return dict\n",
    "        \n",
    "x = (1,2,2,3,4,5)\n",
    "histogram(x)"
   ]
  },
  {
   "cell_type": "markdown",
   "id": "879c946b-700a-4c6b-98cf-d711f9c9cdd6",
   "metadata": {},
   "source": [
    "## 6.4 Random text generator"
   ]
  },
  {
   "cell_type": "code",
   "execution_count": 16,
   "id": "7686b4ee-9ecf-4d3b-a5bd-6953fd1f6891",
   "metadata": {},
   "outputs": [
    {
     "name": "stdout",
     "output_type": "stream",
     "text": [
      "In summer quite the grown-up people's feet \n"
     ]
    }
   ],
   "source": [
    "import random\n",
    "import sys\n",
    "\n",
    "def process_line(line):\n",
    "    '''\n",
    "    Process a line of text to extract (state, new_word) pairs.\n",
    "    Note that we remove uppercase letters in this example, though\n",
    "    you don't have to.\n",
    "\n",
    "    Example:\n",
    "    process_line(\"In winter I get up at night\") =\n",
    "    [('BEGIN', 'in'),\n",
    "     ('in', 'winter'),\n",
    "     ('winter', 'i'),\n",
    "     ('i', 'get'),\n",
    "     ('get', 'up'),\n",
    "     ('up', 'at'),\n",
    "     ('at', 'night'),\n",
    "     ('night', 'END')]\n",
    "\n",
    "    We add the BEGIN and END keywords so that we can initialize the\n",
    "    sentence and know when the line ends.\n",
    "    '''\n",
    "    # Here I first make the given line lowercase and then split it to its words to create tuples of list.\n",
    "    lines = line.split()\n",
    "    result = []\n",
    "\n",
    "     # In below for loop I create tuples of list which represent the relationship between current word and \n",
    "     # next word. Then I append them in the result array to send it back to use for creating dictionary \n",
    "     # in process_textFile() method.\n",
    "    for i in range(len(lines)):\n",
    "        if i == 0:\n",
    "            result.append(('BEGIN',lines[i]))\n",
    "            result.append((lines[i],lines[i+1]))\n",
    "        elif i == (len(lines) - 1):\n",
    "            result.append((lines[i],'END'))\n",
    "        else:\n",
    "            result.append((lines[i],lines[i+1]))\n",
    "    \n",
    "    return result\n",
    "\n",
    "def process_textfile(filename):\n",
    "    '''\n",
    "    Creates a dictionary with transition pairs\n",
    "    based on a file provided\n",
    "\n",
    "    For the first part of the assignment, we use a\n",
    "    placeholder text that you will have to replace\n",
    "    at some point.\n",
    "\n",
    "    Based on the placeholder text, the dictionary\n",
    "    should contain the following key-value pairs:\n",
    "\n",
    "    'blue,': ['END']\n",
    "    'by': ['yellow', 'day.', 'day?']\n",
    "    'still': ['hopping', 'going']\n",
    "    '''\n",
    "    d = {}\n",
    "\n",
    "    # Placeholder until we add File I/O in part two\n",
    "    # Overwrite the following lines with your code:\n",
    "    f = '''In winter I get up at night\n",
    "And dress by yellow candle-light.\n",
    "In summer quite the other way,\n",
    "I have to go to bed by day.\n",
    "\n",
    "I have to go to bed and see\n",
    "The birds still hopping on the tree,\n",
    "Or hear the grown-up people's feet\n",
    "Still going past me in the street.\n",
    "\n",
    "And does it not seem hard to you,\n",
    "When all the sky is clear and blue,\n",
    "And I should like so much to play,\n",
    "To have to go to bed by day?\n",
    "'''.split('\\n')\n",
    "    for line in f:\n",
    "        tuples = process_line(line)\n",
    "        for tuple in tuples:\n",
    "            word = d.get(tuple[0],[])\n",
    "            if word:\n",
    "                word.append(tuple[1])\n",
    "            else:\n",
    "                word.append(tuple[1])\n",
    "                d[tuple[0]] = word\n",
    "    return d\n",
    "\n",
    "def generate_line(d):\n",
    "    '''\n",
    "    Generates a random sentence based on the dictionary\n",
    "    with transition pairs\n",
    "\n",
    "    Note that the first state is BEGIN but that we\n",
    "    obviously do not want to return BEGIN\n",
    "\n",
    "    Some sample output based on the placeholder text:\n",
    "    'i have to go to go to go to go to play,'\n",
    "\n",
    "    Hint: use random.choice to select a random element from a list\n",
    "    '''\n",
    "    sentence = ''\n",
    "\n",
    "    current_word = 'BEGIN'\n",
    "    \n",
    "    while True:\n",
    "        next_word_list = d[current_word]\n",
    "        index = random.randint(0,len(next_word_list)-1)\n",
    "        next_word = next_word_list[index]\n",
    "        if next_word != 'END':\n",
    "            sentence = sentence + next_word + ' '\n",
    "        current_word = next_word\n",
    "        if current_word == 'END':\n",
    "            break\n",
    "\n",
    "    return sentence\n",
    "\n",
    "\n",
    "d = process_textfile('')\n",
    "print(generate_line(d))"
   ]
  },
  {
   "cell_type": "markdown",
   "id": "66850b52-9c32-45c0-b764-5e2168346e62",
   "metadata": {},
   "source": [
    "## 6.5 Vector functions"
   ]
  },
  {
   "cell_type": "markdown",
   "id": "2ee9425b-8fb4-40ff-8c6d-4db1f8c98830",
   "metadata": {},
   "source": [
    "a)"
   ]
  },
  {
   "cell_type": "code",
   "execution_count": 122,
   "id": "4bb43d3e-364c-4424-8b2a-16c97503744a",
   "metadata": {},
   "outputs": [
    {
     "data": {
      "text/plain": [
       "{0: 4, 1: 7, 2: 11}"
      ]
     },
     "execution_count": 122,
     "metadata": {},
     "output_type": "execute_result"
    }
   ],
   "source": [
    "#a) Adding two vector\n",
    "def addVector(vector1, vector2):\n",
    "    result = {}\n",
    "    for key in vector1 :\n",
    "        result[key] = vector1[key] + vector2[key]\n",
    "    return result \n",
    "\n",
    "x = {\n",
    "    0:1,\n",
    "    1:2,\n",
    "    2:4,\n",
    "}\n",
    "y = {\n",
    "    0:3,\n",
    "    1:5,\n",
    "    2:6\n",
    "}\n",
    "addVector(x,y)"
   ]
  },
  {
   "cell_type": "markdown",
   "id": "9b32d023-dcfb-48cb-93b9-6bceb4af8182",
   "metadata": {},
   "source": [
    "b)"
   ]
  },
  {
   "cell_type": "code",
   "execution_count": 100,
   "id": "6b791cb4-ce46-492a-88bf-35999859efa7",
   "metadata": {},
   "outputs": [
    {
     "data": {
      "text/plain": [
       "37"
      ]
     },
     "execution_count": 100,
     "metadata": {},
     "output_type": "execute_result"
    }
   ],
   "source": [
    "def multiplyVector(vector1, vector2):\n",
    "    resultDict = {}\n",
    "    result = 0\n",
    "    if(len(vector1) != len(vector2)):\n",
    "        return\n",
    "    for key in vector1 :\n",
    "        resultDict[key] = vector1[key] * vector2[key]\n",
    "        result += resultDict[key]\n",
    "    return result \n",
    "\n",
    "x = {\n",
    "    0:1,\n",
    "    1:2,\n",
    "    2:4\n",
    "}\n",
    "y = {\n",
    "    0:3,\n",
    "    1:5,\n",
    "    2:6\n",
    "}\n",
    "multiplyVector(x,y)"
   ]
  },
  {
   "cell_type": "markdown",
   "id": "caa563f6-9fa4-45f0-b67d-da5033e89622",
   "metadata": {},
   "source": [
    "c)"
   ]
  },
  {
   "cell_type": "code",
   "execution_count": 99,
   "id": "5dbd782a-ac82-4771-81ce-e14ce06d2b61",
   "metadata": {},
   "outputs": [
    {
     "data": {
      "text/plain": [
       "{0: 4, 2: 4, 3: 8}"
      ]
     },
     "execution_count": 99,
     "metadata": {},
     "output_type": "execute_result"
    }
   ],
   "source": [
    "# Sums up the two vector if the sum is equal to 0, it does not add it to the result dict\n",
    "def addSparseVector(vector1, vector2):\n",
    "    result = {}\n",
    "    if(len(vector1) != len(vector2)):\n",
    "        return\n",
    "    for key in vector1 :\n",
    "        value = vector1[key] + vector2[key]\n",
    "        if(value != 0):\n",
    "            result[key] = value\n",
    "            \n",
    "    return result \n",
    "\n",
    "x = {\n",
    "    0:1,\n",
    "    1:0,\n",
    "    2:4,\n",
    "    3:0\n",
    "}\n",
    "y = {\n",
    "    0:3,\n",
    "    1:0,\n",
    "    2:0,\n",
    "    3:8\n",
    "}\n",
    "addSparseVector(x,y)"
   ]
  },
  {
   "cell_type": "markdown",
   "id": "f4e05142-dca2-44ad-a7b1-332725175bde",
   "metadata": {},
   "source": [
    "d)"
   ]
  },
  {
   "cell_type": "code",
   "execution_count": 101,
   "id": "33c52f08-4529-4d79-a7c7-d4d46403b321",
   "metadata": {},
   "outputs": [
    {
     "data": {
      "text/plain": [
       "{0: 3}"
      ]
     },
     "execution_count": 101,
     "metadata": {},
     "output_type": "execute_result"
    }
   ],
   "source": [
    "# Multiply the two vector If the result is equal to 0, it does not get added to the result dict\n",
    "def multiplySparseVector(vector1, vector2):\n",
    "    result = {}\n",
    "    if(len(vector1) != len(vector2)):\n",
    "        return\n",
    "    for key in vector1 :\n",
    "        value = vector1[key] * vector2[key]\n",
    "        if(value != 0):\n",
    "            result[key] = value\n",
    "            \n",
    "    return result \n",
    "\n",
    "x = {\n",
    "    0:1,\n",
    "    1:0,\n",
    "    2:4,\n",
    "    3:0\n",
    "}\n",
    "y = {\n",
    "    0:3,\n",
    "    1:0,\n",
    "    2:0,\n",
    "    3:8\n",
    "}\n",
    "multiplySparseVector(x,y)"
   ]
  },
  {
   "cell_type": "markdown",
   "id": "7dce0e8c-0153-4b8c-9ca1-74a948bdf1ba",
   "metadata": {},
   "source": [
    "e)"
   ]
  },
  {
   "cell_type": "code",
   "execution_count": 4,
   "id": "57fc0157-c42b-4889-94e6-43eb8e79683d",
   "metadata": {},
   "outputs": [
    {
     "data": {
      "text/plain": [
       "{0: 3, 1: 4, 2: 4, 3: 5}"
      ]
     },
     "execution_count": 4,
     "metadata": {},
     "output_type": "execute_result"
    }
   ],
   "source": [
    "def addSparseDense(sparse,dense):\n",
    "    result = {}\n",
    "    sparseSize = list(sparse.keys())[-1]\n",
    "    size = len(dense) if len(dense) > sparseSize else sparseSize\n",
    "    for index in range(size):\n",
    "        value = get(sparse,index,0) + get(dense,index,0)\n",
    "        if(value != 0):\n",
    "             result[index] = value\n",
    "    return result\n",
    "\n",
    "sparse = {\n",
    "    0:2,\n",
    "    3:5,\n",
    "    7:4\n",
    "}\n",
    "\n",
    "dense = {\n",
    "    0:1,\n",
    "    1:4,\n",
    "    2:4,\n",
    "    3:0\n",
    "}\n",
    "\n",
    "addSparseDense(sparse,dense)"
   ]
  },
  {
   "cell_type": "markdown",
   "id": "e96be071-dde9-4e60-af95-649b506c8bf4",
   "metadata": {},
   "source": [
    "f)"
   ]
  },
  {
   "cell_type": "code",
   "execution_count": 5,
   "id": "dbfed8c7-8642-4851-adf5-9f0ea0bc1e68",
   "metadata": {},
   "outputs": [
    {
     "data": {
      "text/plain": [
       "{0: 2}"
      ]
     },
     "execution_count": 5,
     "metadata": {},
     "output_type": "execute_result"
    }
   ],
   "source": [
    "def multiplySparseDense(sparse,dense):\n",
    "    result = {}\n",
    "    sparseSize = list(sparse.keys())[-1]\n",
    "    size = len(dense) if len(dense) > sparseSize else sparseSize\n",
    "    for index in range(size):\n",
    "        value = get(sparse,index,0) * get(dense,index,0)\n",
    "        if(value != 0):\n",
    "             result[index] = value\n",
    "    return result\n",
    "\n",
    "sparse = {\n",
    "    0:2,\n",
    "    3:5,\n",
    "    7:4,\n",
    "}\n",
    "\n",
    "dense = {\n",
    "    0:1,\n",
    "    1:4,\n",
    "    2:4,\n",
    "    3:0\n",
    "}\n",
    "\n",
    "multiplySparseDense(sparse,dense)"
   ]
  },
  {
   "cell_type": "markdown",
   "id": "7f31a831-c835-43c6-b32a-5c461fa2cb8f",
   "metadata": {},
   "source": [
    "## 6.6 Reverse look-up"
   ]
  },
  {
   "cell_type": "code",
   "execution_count": 24,
   "id": "fa384495-d25e-457f-99ab-df488d54849a",
   "metadata": {},
   "outputs": [
    {
     "name": "stdout",
     "output_type": "stream",
     "text": [
      "key:1\n",
      "key:2\n"
     ]
    }
   ],
   "source": [
    "def reverse_lookup(dict, toFind):\n",
    "    for key, value in dict.items():\n",
    "        if (value == toFind):\n",
    "            print (\"key:\" + str(key))\n",
    "            \n",
    "dict1 = {\n",
    "    0:1,\n",
    "    1:4,\n",
    "    2:4,\n",
    "    3:0\n",
    "}\n",
    "\n",
    "reverse_lookup(dict1,4)"
   ]
  }
 ],
 "metadata": {
  "kernelspec": {
   "display_name": "Python 3 (ipykernel)",
   "language": "python",
   "name": "python3"
  },
  "language_info": {
   "codemirror_mode": {
    "name": "ipython",
    "version": 3
   },
   "file_extension": ".py",
   "mimetype": "text/x-python",
   "name": "python",
   "nbconvert_exporter": "python",
   "pygments_lexer": "ipython3",
   "version": "3.9.10"
  }
 },
 "nbformat": 4,
 "nbformat_minor": 5
}
