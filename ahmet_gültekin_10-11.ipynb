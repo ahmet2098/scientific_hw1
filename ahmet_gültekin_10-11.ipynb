{
 "cells": [
  {
   "cell_type": "markdown",
   "metadata": {},
   "source": [
    "## Exercise 9.5: Singular values"
   ]
  },
  {
   "cell_type": "code",
   "execution_count": 1,
   "metadata": {},
   "outputs": [],
   "source": [
    "import numpy as np \n"
   ]
  },
  {
   "cell_type": "markdown",
   "metadata": {},
   "source": [
    "# 10 Scipy"
   ]
  },
  {
   "cell_type": "markdown",
   "metadata": {},
   "source": [
    "## Exercise 10.1: Least squares"
   ]
  },
  {
   "cell_type": "code",
   "execution_count": 10,
   "metadata": {},
   "outputs": [
    {
     "data": {
      "text/plain": [
       "41"
      ]
     },
     "execution_count": 10,
     "metadata": {},
     "output_type": "execute_result"
    }
   ],
   "source": [
    "import scipy.optimize as opt\n",
    "import numpy.linalg as linalg\n",
    "\n",
    "n = 100\n",
    "m = 200\n",
    "A = np.random.normal(0, 1, (m, n))\n",
    "b = np.random.normal(0, 1,  m)\n",
    "x = linalg.lstsq(A, b,rcond=None)[0]\n",
    "np.argmin(x)"
   ]
  },
  {
   "cell_type": "markdown",
   "metadata": {},
   "source": [
    "## Exercise 10.2: Optimization"
   ]
  },
  {
   "cell_type": "code",
   "execution_count": 11,
   "metadata": {},
   "outputs": [
    {
     "name": "stdout",
     "output_type": "stream",
     "text": [
      "0.2162413285869684\n"
     ]
    }
   ],
   "source": [
    "def f(x):  \n",
    "    result = np.power(np.sin(x-2), 2) * np.exp(-1*(x**2))\n",
    "    return -1 * result\n",
    "    \n",
    "#Maximum of the function\n",
    "result = opt.minimize_scalar(f).x\n",
    "print(result)"
   ]
  },
  {
   "cell_type": "markdown",
   "metadata": {},
   "source": [
    "## Exercise 10.3: Pairwise distances"
   ]
  },
  {
   "cell_type": "code",
   "execution_count": 12,
   "metadata": {},
   "outputs": [
    {
     "data": {
      "text/plain": [
       "array([[0.        , 4.73022827, 4.31784571, 5.04226133, 2.87845745,\n",
       "        3.79378954, 4.12327368, 5.26531579, 4.95462417, 5.71393328],\n",
       "       [4.73022827, 0.        , 5.48546417, 4.34282947, 3.9722564 ,\n",
       "        4.11694672, 5.1035757 , 5.11098708, 4.39390548, 7.15472233],\n",
       "       [4.31784571, 5.48546417, 0.        , 5.11219967, 4.38139662,\n",
       "        4.10481533, 5.17476977, 3.7272287 , 4.32956754, 4.77012202],\n",
       "       [5.04226133, 4.34282947, 5.11219967, 0.        , 4.52976986,\n",
       "        3.46302062, 2.50932573, 3.97537691, 3.97267189, 5.38481065],\n",
       "       [2.87845745, 3.9722564 , 4.38139662, 4.52976986, 0.        ,\n",
       "        3.29114183, 4.54805712, 4.45080852, 3.87506271, 6.21689333],\n",
       "       [3.79378954, 4.11694672, 4.10481533, 3.46302062, 3.29114183,\n",
       "        0.        , 3.13469575, 4.1573839 , 3.79153017, 4.71025997],\n",
       "       [4.12327368, 5.1035757 , 5.17476977, 2.50932573, 4.54805712,\n",
       "        3.13469575, 0.        , 4.43181541, 3.94031525, 3.9620398 ],\n",
       "       [5.26531579, 5.11098708, 3.7272287 , 3.97537691, 4.45080852,\n",
       "        4.1573839 , 4.43181541, 0.        , 2.61269354, 4.32493894],\n",
       "       [4.95462417, 4.39390548, 4.32956754, 3.97267189, 3.87506271,\n",
       "        3.79153017, 3.94031525, 2.61269354, 0.        , 4.03839834],\n",
       "       [5.71393328, 7.15472233, 4.77012202, 5.38481065, 6.21689333,\n",
       "        4.71025997, 3.9620398 , 4.32493894, 4.03839834, 0.        ]])"
      ]
     },
     "execution_count": 12,
     "metadata": {},
     "output_type": "execute_result"
    }
   ],
   "source": [
    "n=10\n",
    "m=10\n",
    "X= np.random.normal(0, 1, (m, n))\n",
    "distance = np.zeros((m,n))\n",
    "for i in range(m):\n",
    "    for j in range(n):\n",
    "        distance[i,j]= np.absolute(linalg.norm(X[i]-X[j]))\n",
    "distance"
   ]
  },
  {
   "cell_type": "markdown",
   "metadata": {},
   "source": [
    "# 11 Matplotlib"
   ]
  },
  {
   "cell_type": "markdown",
   "metadata": {},
   "source": [
    "## Exercise 11.1: Plotting a function"
   ]
  },
  {
   "cell_type": "code",
   "execution_count": 14,
   "metadata": {},
   "outputs": [
    {
     "data": {
      "image/png": "[encoded data removed]",
      "text/plain": [
       "<Figure size 640x480 with 1 Axes>"
      ]
     },
     "metadata": {},
     "output_type": "display_data"
    }
   ],
   "source": [
    "import matplotlib.pyplot as plt\n",
    "\n",
    "x = np.linspace(0, 2, 50)\n",
    "y = (np.sin (x-2) ** 2) * (np.e ** (- x ** 2))\n",
    "plt.plot(x, y)\n",
    "plt.show()"
   ]
  },
  {
   "cell_type": "markdown",
   "metadata": {},
   "source": [
    "## Exercise 11.2: Data"
   ]
  },
  {
   "cell_type": "code",
   "execution_count": null,
   "metadata": {},
   "outputs": [],
   "source": []
  },
  {
   "cell_type": "markdown",
   "metadata": {},
   "source": [
    "## Exercise 11.3: Histogram and density estimation"
   ]
  },
  {
   "cell_type": "code",
   "execution_count": null,
   "metadata": {},
   "outputs": [],
   "source": []
  },
  {
   "cell_type": "code",
   "execution_count": null,
   "metadata": {},
   "outputs": [],
   "source": []
  }
 ],
 "metadata": {
  "kernelspec": {
   "display_name": "Python 3 (ipykernel)",
   "language": "python",
   "name": "python3"
  },
  "language_info": {
   "codemirror_mode": {
    "name": "ipython",
    "version": 3
   },
   "file_extension": ".py",
   "mimetype": "text/x-python",
   "name": "python",
   "nbconvert_exporter": "python",
   "pygments_lexer": "ipython3",
   "version": "3.7.11"
  }
 },
 "nbformat": 4,
 "nbformat_minor": 5
}
